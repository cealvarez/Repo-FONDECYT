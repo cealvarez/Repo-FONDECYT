{
 "cells": [
  {
   "cell_type": "code",
   "execution_count": 18,
   "metadata": {
    "collapsed": false
   },
   "outputs": [],
   "source": [
    "# Librerias\n",
    "\n",
    "import pandas as pd\n",
    "import csv\n",
    "from datetime import datetime\n",
    "import numpy as np\n",
    "\n",
    "pacientes = 'diagnostico_3369.csv'\n",
    "\n",
    "# Parameters: categories for comorbidities and other diseases (DMT2's severities)\n",
    "\n",
    "severity_cat = ['cardiovascular', 'nefropatia', 'retinopatia', 'enf_periferica', 'acv', 'neuropatia', 'desorden_metab']\n",
    "comorbidity_cat = ['cancer', 'enf_pulmonar', 'gastrointestinal', 'musculo_esqueletica', 'enf_mental', 'abuso_sustancia']\n",
    "\n",
    "severity_ciaps = {'cardiovascular': [['K74', 1], ['K75', 2], ['K76', 1], ['K77', 2], ['K78', 2], ['K79', 2], ['K80', 2],\n",
    "                                     ['K84', 2], ['K91', 1], ['K92', 1], ['K99', 2]],\n",
    "                  'nefropatia': [['U06', 1], ['U88', 1], ['U99', 2]],\n",
    "                  'retinopatia': [['F82', 2], ['F83', 1], ['F84', 1]],\n",
    "                  'enf_periferica': [['S97', 2]],\n",
    "                  'acv': [['K89', 1], ['K90', 2]],\n",
    "                  'neuropatia': [['N93', 1], ['N94', 1]],\n",
    "                  'desorden_metab': [['T87', 2]]}\n",
    "\n",
    "comorbidity_ciaps = {'cancer': ['A79', 'B72', 'D74', 'F74', 'H75', 'L71', 'K72', 'N74', 'R84', 'R85', 'S77', 'T71',\n",
    "                                'T93', 'U75', 'U76', 'U77', 'U79', 'W72', 'X75', 'X76', 'X77', 'X81', 'Y77', 'Y78'],\n",
    "                     'enf_pulmonar': ['R95', 'R96'],\n",
    "                     'gastrointestinal': ['D84', 'D86', 'D99'],\n",
    "                     'musculo_esqueletica': ['L84', 'L88', 'L89', 'L90', 'L91', 'L99'],\n",
    "                     'enf_mental': ['P01', 'P02', 'P27', 'P70', 'P71', 'P72', 'P73', 'P74', 'P76', 'P77'],\n",
    "                     'abuso_sustancia': ['P15', 'P16', 'P19', 'Z13']}\n",
    "\n",
    "# Incluye todas las enfermedades en valid_ciaps\n",
    "\n",
    "valid_ciaps = ['T90']\n",
    "for cat in severity_ciaps:\n",
    "    for code in severity_ciaps[cat]:\n",
    "        ciap = code[0]\n",
    "        if ciap not in valid_ciaps:\n",
    "            valid_ciaps.append(ciap)\n",
    "\n",
    "for cat in comorbidity_ciaps:\n",
    "    for ciap in comorbidity_ciaps[cat]:\n",
    "        if ciap not in valid_ciaps:\n",
    "            valid_ciaps.append(ciap)\n",
    "\n",
    "            \n",
    "        \n",
    "patients_log = {}\n",
    "diagnosis = {}  # {code: [[patient, date], ...]}\n",
    "cat_severity_before = {}\n",
    "cat_severity_after = {}\n",
    "cat_severity_total = {}\n",
    "cat_comorbidity_before = {}\n",
    "cat_comorbidity_after = {}\n",
    "cat_comorbidity_total = {}\n",
    "\n",
    "severity_index_category = {}\n",
    "severity_index = {}\n",
    "comorbidity_index_category = {}\n",
    "comorbidity_index = {}\n",
    "\n"
   ]
  },
  {
   "cell_type": "code",
   "execution_count": 19,
   "metadata": {
    "collapsed": false
   },
   "outputs": [
    {
     "name": "stdout",
     "output_type": "stream",
     "text": [
      "Number of studied/selected patients:  3369\n"
     ]
    }
   ],
   "source": [
    "# Gets the ids of studied patients\n",
    "def read_patient_dm():\n",
    "    tabla = pd.read_csv(pacientes, sep = \";\")\n",
    "    reader = []\n",
    "    for x in zip(tabla[\"id_paciente\"]):\n",
    "        if not x[0] in reader:\n",
    "            reader.append(x[0])   \n",
    "    \n",
    "    for patient in reader:\n",
    "        \n",
    "        patients_log[patient] = []\n",
    "        cat_severity_before[patient] = {}\n",
    "        cat_severity_after[patient] = {}\n",
    "        cat_severity_total[patient] = {}\n",
    "        cat_comorbidity_before[patient] = {}\n",
    "        cat_comorbidity_after[patient] = {}\n",
    "        cat_comorbidity_total[patient] = {}\n",
    "        severity_index_category[patient] = {}\n",
    "        severity_index[patient] = {}\n",
    "        comorbidity_index_category[patient] = {}\n",
    "        comorbidity_index[patient] = {}\n",
    "\n",
    "        for cat in severity_cat:\n",
    "            cat_severity_before[patient][cat] = 0\n",
    "            cat_severity_after[patient][cat] = 0\n",
    "            cat_severity_total[patient][cat] = 0\n",
    "            severity_index_category[patient][cat] = 0\n",
    "            severity_index[patient][cat] = 0\n",
    "        for cat in comorbidity_cat:\n",
    "            cat_comorbidity_before[patient][cat] = 0\n",
    "            cat_comorbidity_after[patient][cat] = 0\n",
    "            cat_comorbidity_total[patient][cat] = 0\n",
    "            comorbidity_index_category[patient][cat] = 0\n",
    "            comorbidity_index[patient][cat] = 0\n",
    "      \n",
    "    print(\"Number of studied/selected patients: \", len(patients_log))\n",
    "\n",
    "read_patient_dm()"
   ]
  },
  {
   "cell_type": "code",
   "execution_count": 35,
   "metadata": {
    "collapsed": false
   },
   "outputs": [],
   "source": [
    "# Reads diagnosis (for valid ciaps) of selected patients until the max date parameter\n",
    "def read_diagnosis():\n",
    "    \n",
    "    data = pd.read_csv(pacientes, sep=';')\n",
    "    data['fecha'] = pd.to_datetime(data['fecha'], format=\"%d-%m-%Y\")\n",
    "    data = data.sort_values(by=['id_paciente', 'fecha'])\n",
    "    for patient, date, code in zip(data['id_paciente'], data['fecha'], data['ciap']):\n",
    "        date = date.date()\n",
    "        if code != 'T90':\n",
    "            if code not in diagnosis:\n",
    "                diagnosis[code] = []\n",
    "            if patient not in [row[0] for row in diagnosis[code]]:\n",
    "                diagnosis[code].append([patient, date])\n",
    "\n",
    "read_diagnosis()\n"
   ]
  },
  {
   "cell_type": "code",
   "execution_count": 36,
   "metadata": {
    "collapsed": false
   },
   "outputs": [
    {
     "ename": "TypeError",
     "evalue": "'int' object is not subscriptable",
     "output_type": "error",
     "traceback": [
      "\u001b[0;31m---------------------------------------------------------------------------\u001b[0m",
      "\u001b[0;31mTypeError\u001b[0m                                 Traceback (most recent call last)",
      "\u001b[0;32m<ipython-input-36-e6f71b5def4c>\u001b[0m in \u001b[0;36m<module>\u001b[0;34m()\u001b[0m\n\u001b[1;32m     51\u001b[0m         \u001b[0mcomorbidity_index\u001b[0m\u001b[0;34m[\u001b[0m\u001b[0mpatient\u001b[0m\u001b[0;34m]\u001b[0m \u001b[0;34m=\u001b[0m \u001b[0msum\u001b[0m\u001b[0;34m(\u001b[0m\u001b[0mcomorbidity_index\u001b[0m\u001b[0;34m[\u001b[0m\u001b[0mpatient\u001b[0m\u001b[0;34m]\u001b[0m\u001b[0;34m.\u001b[0m\u001b[0mvalues\u001b[0m\u001b[0;34m(\u001b[0m\u001b[0;34m)\u001b[0m\u001b[0;34m)\u001b[0m\u001b[0;34m\u001b[0m\u001b[0m\n\u001b[1;32m     52\u001b[0m \u001b[0;34m\u001b[0m\u001b[0m\n\u001b[0;32m---> 53\u001b[0;31m \u001b[0mstatic_patients\u001b[0m\u001b[0;34m(\u001b[0m\u001b[0;34m)\u001b[0m\u001b[0;34m\u001b[0m\u001b[0m\n\u001b[0m",
      "\u001b[0;32m<ipython-input-36-e6f71b5def4c>\u001b[0m in \u001b[0;36mstatic_patients\u001b[0;34m()\u001b[0m\n\u001b[1;32m     11\u001b[0m                 \u001b[0mpatient_id\u001b[0m \u001b[0;34m=\u001b[0m \u001b[0mpatient_tuple\u001b[0m\u001b[0;34m[\u001b[0m\u001b[0;36m0\u001b[0m\u001b[0;34m]\u001b[0m\u001b[0;34m\u001b[0m\u001b[0m\n\u001b[1;32m     12\u001b[0m                 \u001b[0mseverity_index_category\u001b[0m\u001b[0;34m[\u001b[0m\u001b[0mpatient_id\u001b[0m\u001b[0;34m]\u001b[0m\u001b[0;34m[\u001b[0m\u001b[0mcategory\u001b[0m\u001b[0;34m]\u001b[0m \u001b[0;34m+=\u001b[0m \u001b[0mscore\u001b[0m\u001b[0;34m\u001b[0m\u001b[0m\n\u001b[0;32m---> 13\u001b[0;31m                 \u001b[0;32mif\u001b[0m \u001b[0mseverity_index\u001b[0m\u001b[0;34m[\u001b[0m\u001b[0mpatient_id\u001b[0m\u001b[0;34m]\u001b[0m\u001b[0;34m[\u001b[0m\u001b[0mcategory\u001b[0m\u001b[0;34m]\u001b[0m \u001b[0;34m<\u001b[0m \u001b[0;36m2\u001b[0m\u001b[0;34m:\u001b[0m\u001b[0;34m\u001b[0m\u001b[0m\n\u001b[0m\u001b[1;32m     14\u001b[0m                     \u001b[0mseverity_index\u001b[0m\u001b[0;34m[\u001b[0m\u001b[0mpatient_id\u001b[0m\u001b[0;34m]\u001b[0m\u001b[0;34m[\u001b[0m\u001b[0mcategory\u001b[0m\u001b[0;34m]\u001b[0m \u001b[0;34m=\u001b[0m \u001b[0mscore\u001b[0m\u001b[0;34m\u001b[0m\u001b[0m\n\u001b[1;32m     15\u001b[0m \u001b[0;34m\u001b[0m\u001b[0m\n",
      "\u001b[0;31mTypeError\u001b[0m: 'int' object is not subscriptable"
     ]
    }
   ],
   "source": [
    "def static_patients():\n",
    "    \n",
    "    for category in severity_ciaps:\n",
    "        for code in severity_ciaps[category]:\n",
    "            ciap = code[0]\n",
    "            score = code[1]\n",
    "            if ciap not in diagnosis:\n",
    "                continue\n",
    "            patients_list = diagnosis[ciap]\n",
    "            for patient_tuple in patients_list:\n",
    "                patient_id = patient_tuple[0]\n",
    "                severity_index_category[patient_id][category] += score\n",
    "                if severity_index[patient_id][category] < 2:\n",
    "                    severity_index[patient_id][category] = score\n",
    "\n",
    "                if len(patients_log[patient_id]) < 6:\n",
    "                    continue\n",
    "                date = patient_tuple[1]\n",
    "                t90_date = patients_log[patient_id][5]\n",
    "                if date >= t90_date:\n",
    "                    cat_severity_after[patient_id][category] += 1\n",
    "                else:\n",
    "                    cat_severity_before[patient_id][category] += 1\n",
    "                cat_severity_total[patient_id][category] += 1\n",
    "\n",
    "    for patient in severity_index:\n",
    "        severity_index[patient] = sum(severity_index[patient].values())\n",
    "\n",
    "    for category in comorbidity_ciaps:\n",
    "        for ciap in comorbidity_ciaps[category]:\n",
    "            if ciap not in diagnosis:\n",
    "                continue\n",
    "            patients_list = diagnosis[ciap]\n",
    "            for patient_tuple in patients_list:\n",
    "                patient_id = patient_tuple[0]\n",
    "                comorbidity_index_category[patient_id][category] += 1\n",
    "                if comorbidity_index[patient_id][category] < 1:\n",
    "                    comorbidity_index[patient_id][category] = 1\n",
    "\n",
    "                if len(patients_log[patient_id]) < 6:\n",
    "                    continue\n",
    "                date = patient_tuple[1]\n",
    "                t90_date = patients_log[patient_id][5]\n",
    "                if date >= t90_date:\n",
    "                    cat_comorbidity_after[patient_id][category] += 1\n",
    "                else:\n",
    "                    cat_comorbidity_before[patient_id][category] += 1\n",
    "                cat_comorbidity_total[patient_id][category] += 1\n",
    "\n",
    "    for patient in comorbidity_index:\n",
    "        comorbidity_index[patient] = sum(comorbidity_index[patient].values())\n",
    "        \n",
    "static_patients()"
   ]
  },
  {
   "cell_type": "code",
   "execution_count": null,
   "metadata": {
    "collapsed": true
   },
   "outputs": [],
   "source": []
  }
 ],
 "metadata": {
  "anaconda-cloud": {},
  "celltoolbar": "Raw Cell Format",
  "kernelspec": {
   "display_name": "Python [conda root]",
   "language": "python",
   "name": "conda-root-py"
  },
  "language_info": {
   "codemirror_mode": {
    "name": "ipython",
    "version": 3
   },
   "file_extension": ".py",
   "mimetype": "text/x-python",
   "name": "python",
   "nbconvert_exporter": "python",
   "pygments_lexer": "ipython3",
   "version": "3.5.2"
  }
 },
 "nbformat": 4,
 "nbformat_minor": 1
}
