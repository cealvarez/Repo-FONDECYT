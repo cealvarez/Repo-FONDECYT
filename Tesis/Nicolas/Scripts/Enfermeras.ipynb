{
 "cells": [
  {
   "cell_type": "code",
   "execution_count": 5,
   "metadata": {},
   "outputs": [
    {
     "name": "stdout",
     "output_type": "stream",
     "text": [
      "['110', 'MEDICO']\n"
     ]
    }
   ],
   "source": [
    "archivo = open(\"log_adherencia.csv\")\n",
    "lista = archivo.readlines()\n",
    "lista2 = [x.strip().split(\";\") for x in lista][1:]\n",
    "lista3 = [[x[2], x[6]] for x in lista2]"
   ]
  },
  {
   "cell_type": "code",
   "execution_count": 6,
   "metadata": {
    "collapsed": true
   },
   "outputs": [],
   "source": [
    "del lista\n",
    "del lista2"
   ]
  },
  {
   "cell_type": "code",
   "execution_count": 12,
   "metadata": {},
   "outputs": [
    {
     "name": "stdout",
     "output_type": "stream",
     "text": [
      "[471, 628, 676, 2596, 2597, 3098, 3585, 4080, 4394, 4661, 4766, 4844, 4900, 4961, 5102, 5824, 6062, 6334, 6542, 6892, 7521, 8450, 9257, 12324, 12814, 12827, 12982, 13248, 15375, 16227, 16536, 16623, 17288, 17581, 17858, 20397, 20466, 22195, 22456, 23068, 23291, 23925, 24615, 25228, 26128, 26348, 31473, 33371, 36596, 38023, 41473, 60213, 60250, 60371, 68157, 69308, 74478, 77332, 82615, 86274, 86453, 88754, 90441, 94498, 99455, 100316, 102344, 105203, 105714, 106425, 107547, 107868, 108215, 109274, 109595, 114203, 114624, 117202, 117414, 117604, 117630, 122381, 123145, 123706]\n"
     ]
    }
   ],
   "source": [
    "dic = {}\n",
    "for i in lista3:\n",
    "    if int(i[0]) not in dic:\n",
    "        dic[int(i[0])] = []\n",
    "        if i[1] == \"MEDICO\" or i[1]== \"ENFERMERA\" or i[1] == \"NUTRICIONISTA\":\n",
    "            dic[int(i[0])].append(i[1])\n",
    "    else:\n",
    "        if i[1] == \"MEDICO\" or i[1]== \"ENFERMERA\" or i[1] == \"NUTRICIONISTA\":\n",
    "            dic[int(i[0])].append(i[1])\n",
    "solo_enf = []\n",
    "for i in dic:\n",
    "    if \"MEDICO\" not in dic[i] and \"NUTRICIONISTA\" not in dic[i]:\n",
    "        solo_enf.append(i)\n",
    "print(solo_enf)"
   ]
  },
  {
   "cell_type": "code",
   "execution_count": null,
   "metadata": {
    "collapsed": true
   },
   "outputs": [],
   "source": []
  }
 ],
 "metadata": {
  "kernelspec": {
   "display_name": "Python 3",
   "language": "python",
   "name": "python3"
  },
  "language_info": {
   "codemirror_mode": {
    "name": "ipython",
    "version": 3
   },
   "file_extension": ".py",
   "mimetype": "text/x-python",
   "name": "python",
   "nbconvert_exporter": "python",
   "pygments_lexer": "ipython3",
   "version": "3.6.1"
  }
 },
 "nbformat": 4,
 "nbformat_minor": 2
}
